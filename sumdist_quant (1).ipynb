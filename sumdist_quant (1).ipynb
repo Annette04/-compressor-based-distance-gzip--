{
 "cells": [
  {
   "cell_type": "code",
   "execution_count": 3,
   "id": "4e1a8545-ce1a-43d5-bf16-ff3b3ef26590",
   "metadata": {},
   "outputs": [],
   "source": [
    "import pandas as pb\n",
    "import numpy as np\n",
    "import matplotlib.pyplot as plt\n",
    "import pandas as pd\n",
    "import os\n",
    "import os.path\n",
    "from sklearn.metrics import classification_report, accuracy_score, confusion_matrix\n",
    "from sklearn.metrics import roc_auc_score, precision_score, recall_score, f1_score\n",
    "from sklearn.model_selection import train_test_split, KFold\n",
    "import gzip\n",
    "\n",
    "from saxpy.znorm import znorm\n",
    "from saxpy.sax import ts_to_string\n",
    "from saxpy.alphabet import cuts_for_asize\n",
    "\n",
    "from joblib import Parallel, delayed\n",
    "import diffquantizer"
   ]
  },
  {
   "cell_type": "code",
   "execution_count": 189,
   "id": "ef4a5e1e-f2a6-4b36-aeab-17479d7242a5",
   "metadata": {},
   "outputs": [],
   "source": [
    "def L1_R2(added_data):\n",
    "    new_data = []\n",
    "    for index in range(1, len(added_data)):\n",
    "        new_data.append(added_data[index-1][1] - added_data[index][0])\n",
    "        # new_data.append(np.abs(added_data[index-1][1] - added_data[index][0]))\n",
    "    return new_data"
   ]
  },
  {
   "cell_type": "code",
   "execution_count": 649,
   "id": "258d196f-2a33-42d6-b44d-cabc0445e0d7",
   "metadata": {},
   "outputs": [],
   "source": [
    "def Cross(added_data):\n",
    "    new_data = []\n",
    "    for index in range(1, len(added_data)):\n",
    "        L2_R1 = added_data[index][1] - added_data[index-1][0]\n",
    "        R2_L1 = added_data[index][0] - added_data[index-1][1]\n",
    "        new_data.append(np.abs(L2_R1 - R2_L1))\n",
    "    return new_data"
   ]
  },
  {
   "cell_type": "code",
   "execution_count": 650,
   "id": "17a40a93-289d-465f-b28d-8db2d0327b70",
   "metadata": {},
   "outputs": [],
   "source": [
    "def Snake(added_data):\n",
    "    new_data = []\n",
    "    for index in range(1, len(added_data)):\n",
    "        L1_R1 = added_data[index-1][1] - added_data[index-1][0]\n",
    "        R2_L1 = added_data[index][0] - added_data[index-1][1]\n",
    "        new_data.append(L1_R1)\n",
    "        new_data.append(R2_L1)\n",
    "    return new_data"
   ]
  },
  {
   "cell_type": "code",
   "execution_count": 651,
   "id": "33f51cab-01d8-459f-87a7-1e33db6d4572",
   "metadata": {},
   "outputs": [],
   "source": [
    "def SnakeRotate(added_data):\n",
    "    new_data = []\n",
    "    for index in range(1, len(added_data)):\n",
    "        R1_L1 = added_data[index-1][0] - added_data[index-1][1]\n",
    "        L1_R2 = added_data[index-1][1] - added_data[index][0]\n",
    "        new_data.append(R1_L1)\n",
    "        new_data.append(L1_R2)\n",
    "        # new_data.append(np.abs(R1_L1))\n",
    "        # new_data.append(np.abs(L1_R2))\n",
    "    return new_data"
   ]
  },
  {
   "cell_type": "code",
   "execution_count": 652,
   "id": "010d9332-0211-4584-bee1-0f96759b327f",
   "metadata": {},
   "outputs": [],
   "source": [
    "def FullSnake(added_data):\n",
    "    new_data = []\n",
    "    for index in range(1, len(added_data)):\n",
    "        R1_L1 = added_data[index-1][0] - added_data[index-1][1]\n",
    "        L1_R2 = added_data[index-1][1] - added_data[index][0]\n",
    "        R1_L2 = added_data[index-1][0] - added_data[index][1]\n",
    "        new_data.append(R1_L1)\n",
    "        new_data.append(np.abs(L1_R2 - R1_L2))\n",
    "    return new_data"
   ]
  },
  {
   "cell_type": "code",
   "execution_count": 653,
   "id": "abcb2d1a-05ac-4aab-89c5-5a645c4c3629",
   "metadata": {},
   "outputs": [],
   "source": [
    "def SumSnake(added_data):\n",
    "    new_data = []\n",
    "    for index in range(1, len(added_data)):\n",
    "        R1_L1 = added_data[index-1][0] - added_data[index-1][1]\n",
    "        L1_R2 = added_data[index-1][1] - added_data[index][0]\n",
    "        R1_L2 = added_data[index-1][0] - added_data[index][1]\n",
    "        new_data.append(np.abs(R1_L1 + (L1_R2 - R1_L2)))\n",
    "    return new_data"
   ]
  },
  {
   "cell_type": "code",
   "execution_count": 654,
   "id": "fe1baf08-2073-4b5c-b396-ddceb7147c4d",
   "metadata": {},
   "outputs": [],
   "source": [
    "def SumSnake2(added_data):\n",
    "    new_data = []\n",
    "    for index in range(1, len(added_data)):\n",
    "        R1_L1 = added_data[index-1][0] - added_data[index-1][1]\n",
    "        L1_R2 = added_data[index-1][1] - added_data[index][0]\n",
    "        R1_L2 = added_data[index-1][0] - added_data[index][1]\n",
    "        new_data.append(np.abs(R1_L1 - (L1_R2 + R1_L2)))\n",
    "    return new_data"
   ]
  },
  {
   "cell_type": "code",
   "execution_count": 655,
   "id": "296d64b0-0ef0-4854-8f5a-5223850d3ee2",
   "metadata": {},
   "outputs": [],
   "source": [
    "def Ladder(added_data):\n",
    "    new_data = []\n",
    "    for index in range(1, len(added_data)):\n",
    "        R1_L1 =  np.abs(added_data[index-1][0] - added_data[index-1][1])\n",
    "        R1_R2 = np.abs(added_data[index-1][0] - added_data[index][0])\n",
    "        L1_L2 = np.abs(added_data[index-1][1] - added_data[index][1])\n",
    "        delta = np.abs(R1_R2 - L1_L2)\n",
    "        new_data.append(R1_L1 - delta)\n",
    "    return new_data"
   ]
  },
  {
   "cell_type": "code",
   "execution_count": 684,
   "id": "0b63ed2e-38db-4c57-a6fe-610bd5ce6980",
   "metadata": {},
   "outputs": [],
   "source": [
    "X = []\n",
    "Y = []\n",
    "\n",
    "for root, dirs, files in os.walk('Recording Data'):\n",
    "    for file in files:\n",
    "        if file.endswith(\".txt\") and file != 'Subject codes.txt':\n",
    "            file_path = os.path.join(root, file)\n",
    "            if int(root[-1]) <= 2:\n",
    "                has_dyslexia = 1\n",
    "            else:\n",
    "                has_dyslexia = 0\n",
    "                \n",
    "            data = pd.read_csv(file_path, sep='\\t', index_col=None, decimal=\",\")\n",
    "            data['r_dist'] = (data['RX'].diff() ** 2 + data['RY'].diff() ** 2) ** 0.5\n",
    "            data['l_dist'] = (data['LX'].diff() ** 2 + data['LY'].diff() ** 2) ** 0.5\n",
    "            \n",
    "            added_data = np.array([x for x in list(zip(data['r_dist'][1:], data['l_dist'][1:]))])\n",
    "            \n",
    "            # added_data = np.abs(added_data[:,0] - added_data[:,1]) #0.93...\n",
    "            # added_data = np.diff(added_data)\n",
    "            \n",
    "            # added_data = L1_R2(added_data) #0,95\n",
    "            # added_data = np.diff(added_data)\n",
    "\n",
    "            # added_data = Cross(added_data) #0.939\n",
    "            # added_data = np.diff(added_data)\n",
    "\n",
    "            added_data = Snake(added_data) #0.956\n",
    "            added_data = np.diff(added_data)\n",
    "\n",
    "            # added_data = SnakeRotate(added_data) #0.956\n",
    "            # added_data = np.diff(added_data)\n",
    "\n",
    "            # added_data = FullSnake(added_data) #0.934\n",
    "            # added_data = np.diff(added_data)\n",
    "\n",
    "            # added_data = SumSnake(added_data) #0.95\n",
    "            # added_data = np.diff(added_data)\n",
    "\n",
    "            # added_data = SumSnake2(added_data) #0.945\n",
    "            # added_data = np.diff(added_data)\n",
    "            \n",
    "            # added_data = Ladder(added_data) #0.939\n",
    "            # added_data = np.diff(added_data)\n",
    "            \n",
    "            X.append(added_data)\n",
    "            Y.append(has_dyslexia)"
   ]
  },
  {
   "cell_type": "code",
   "execution_count": 685,
   "id": "8134e7e6",
   "metadata": {},
   "outputs": [],
   "source": [
    "X = np.array(X,dtype = \"object\")\n",
    "Y = np.array(Y)"
   ]
  },
  {
   "cell_type": "code",
   "execution_count": 686,
   "id": "032a7dda",
   "metadata": {},
   "outputs": [
    {
     "data": {
      "text/plain": [
       "[<matplotlib.lines.Line2D at 0x1b808f2ad50>]"
      ]
     },
     "execution_count": 686,
     "metadata": {},
     "output_type": "execute_result"
    },
    {
     "data": {
      "image/png": "[encoded data removed]",
      "text/plain": [
       "<Figure size 640x480 with 1 Axes>"
      ]
     },
     "metadata": {},
     "output_type": "display_data"
    }
   ],
   "source": [
    "plt.plot(np.sort(np.concatenate(X)))"
   ]
  },
  {
   "cell_type": "code",
   "execution_count": null,
   "id": "f54d5813",
   "metadata": {},
   "outputs": [],
   "source": []
  },
  {
   "cell_type": "code",
   "execution_count": 687,
   "id": "ece8ed3f",
   "metadata": {},
   "outputs": [],
   "source": [
    "quantizer = diffquantizer.DiffQuantizer(600,use_diffs = False)"
   ]
  },
  {
   "cell_type": "code",
   "execution_count": null,
   "id": "770e7641",
   "metadata": {},
   "outputs": [],
   "source": []
  },
  {
   "cell_type": "code",
   "execution_count": 688,
   "id": "83263188",
   "metadata": {},
   "outputs": [],
   "source": [
    "SPLITS = 5"
   ]
  },
  {
   "cell_type": "code",
   "execution_count": 689,
   "id": "4fefc30f",
   "metadata": {},
   "outputs": [],
   "source": [
    "kf = KFold(n_splits=SPLITS, shuffle = True, random_state = 160)\n",
    "\n",
    "index_split = list(kf.split(X, Y))"
   ]
  },
  {
   "cell_type": "code",
   "execution_count": null,
   "id": "6c27e2df",
   "metadata": {},
   "outputs": [],
   "source": []
  },
  {
   "cell_type": "code",
   "execution_count": 690,
   "id": "35adc9aa-4c30-402b-b59e-54a9aac7dbc6",
   "metadata": {},
   "outputs": [
    {
     "name": "stdout",
     "output_type": "stream",
     "text": [
      "0.5472972972972973 0.43243243243243246\n",
      "0.527027027027027 0.5135135135135135\n",
      "0.5337837837837838 0.4864864864864865\n",
      "0.5 0.6216216216216216\n",
      "0.5135135135135135 0.5675675675675675\n"
     ]
    }
   ],
   "source": [
    "for k in range(SPLITS):\n",
    "    train_index, test_index = index_split[k]\n",
    "    Y_train = Y[train_index]\n",
    "    Y_test = Y[test_index]\n",
    "    print(np.sum(Y_train)/len(Y_train), np.sum(Y_test)/len(Y_test))"
   ]
  },
  {
   "cell_type": "code",
   "execution_count": null,
   "id": "e499d9ee",
   "metadata": {},
   "outputs": [],
   "source": []
  },
  {
   "cell_type": "code",
   "execution_count": null,
   "id": "7988bd02",
   "metadata": {},
   "outputs": [],
   "source": []
  },
  {
   "cell_type": "code",
   "execution_count": 691,
   "id": "79cb0dcf",
   "metadata": {},
   "outputs": [],
   "source": [
    "def compresso(x):\n",
    "    return(len(gzip.compress(bytes(x,\"utf-8\"))))"
   ]
  },
  {
   "cell_type": "code",
   "execution_count": 692,
   "id": "62ea8afa",
   "metadata": {},
   "outputs": [],
   "source": [
    "def predict_gzip(i, knn, X_train, X_test, CX_train, CX_test, Y_train):\n",
    "    x1, Cx1 = X_test[i], CX_test[i]\n",
    "    x1_append = np.zeros((X_train.shape), dtype = X_train.dtype)\n",
    "    x1_append[:] = x1\n",
    "    x1x2 = np.char.add(x1_append, X_train)\n",
    "    \n",
    "    Cx1x2 = np.vectorize(compresso)(x1x2)\n",
    "    distances = (Cx1x2 - np.vectorize(min)(CX_train, Cx1))/np.vectorize(max)(CX_train, Cx1)\n",
    "    \n",
    "    sorted_idx = np.argsort(np.array(distances))\n",
    "    \n",
    "    top_k_class = Y_train[sorted_idx].astype(np.byte)\n",
    "    #weights = 1\n",
    "    \n",
    "    top_k_class[top_k_class == 0] = -1\n",
    "        \n",
    "    return(top_k_class)\n",
    "\n",
    "def w_distances_to_classes(k, weights, Y_test):\n",
    "    predicted_classes = []\n",
    "    for i in weights:\n",
    "        pred = 0 if (np.sum(i[:k]) < 0) else 1\n",
    "        predicted_classes.append(pred)\n",
    "    acc = classification_report(Y_test,predicted_classes, output_dict = True)[\"macro avg\"][\"f1-score\"]\n",
    "    return(acc)"
   ]
  },
  {
   "cell_type": "code",
   "execution_count": 693,
   "id": "88d6434e",
   "metadata": {},
   "outputs": [
    {
     "name": "stderr",
     "output_type": "stream",
     "text": [
      "[Parallel(n_jobs=12)]: Using backend LokyBackend with 12 concurrent workers.\n",
      "[Parallel(n_jobs=12)]: Done   8 tasks      | elapsed:    0.7s\n",
      "[Parallel(n_jobs=12)]: Done  27 out of  37 | elapsed:    0.9s remaining:    0.3s\n",
      "[Parallel(n_jobs=12)]: Done  37 out of  37 | elapsed:    1.0s finished\n",
      "[Parallel(n_jobs=6)]: Using backend LokyBackend with 6 concurrent workers.\n",
      "[Parallel(n_jobs=6)]: Done  20 tasks      | elapsed:    1.0s\n",
      "[Parallel(n_jobs=6)]: Done 146 out of 146 | elapsed:    1.2s finished\n",
      "[Parallel(n_jobs=12)]: Using backend LokyBackend with 12 concurrent workers.\n",
      "[Parallel(n_jobs=12)]: Done   8 tasks      | elapsed:    0.7s\n",
      "[Parallel(n_jobs=12)]: Done  27 out of  37 | elapsed:    0.9s remaining:    0.3s\n",
      "[Parallel(n_jobs=12)]: Done  37 out of  37 | elapsed:    1.0s finished\n",
      "[Parallel(n_jobs=6)]: Using backend LokyBackend with 6 concurrent workers.\n",
      "[Parallel(n_jobs=6)]: Done  20 tasks      | elapsed:    1.0s\n",
      "[Parallel(n_jobs=6)]: Done 146 out of 146 | elapsed:    1.2s finished\n",
      "[Parallel(n_jobs=12)]: Using backend LokyBackend with 12 concurrent workers.\n",
      "[Parallel(n_jobs=12)]: Done   8 tasks      | elapsed:    0.6s\n",
      "[Parallel(n_jobs=12)]: Done  27 out of  37 | elapsed:    0.8s remaining:    0.2s\n",
      "[Parallel(n_jobs=12)]: Done  37 out of  37 | elapsed:    0.9s finished\n",
      "[Parallel(n_jobs=6)]: Using backend LokyBackend with 6 concurrent workers.\n",
      "[Parallel(n_jobs=6)]: Done  20 tasks      | elapsed:    0.9s\n",
      "[Parallel(n_jobs=6)]: Done 146 out of 146 | elapsed:    1.1s finished\n",
      "[Parallel(n_jobs=12)]: Using backend LokyBackend with 12 concurrent workers.\n",
      "[Parallel(n_jobs=12)]: Done   8 tasks      | elapsed:    0.7s\n",
      "[Parallel(n_jobs=12)]: Done  27 out of  37 | elapsed:    0.9s remaining:    0.3s\n",
      "[Parallel(n_jobs=12)]: Done  37 out of  37 | elapsed:    0.9s finished\n",
      "[Parallel(n_jobs=6)]: Using backend LokyBackend with 6 concurrent workers.\n",
      "[Parallel(n_jobs=6)]: Done  20 tasks      | elapsed:    1.0s\n",
      "[Parallel(n_jobs=6)]: Done 146 out of 146 | elapsed:    1.2s finished\n",
      "[Parallel(n_jobs=12)]: Using backend LokyBackend with 12 concurrent workers.\n",
      "[Parallel(n_jobs=12)]: Done   8 tasks      | elapsed:    0.7s\n",
      "[Parallel(n_jobs=12)]: Done  27 out of  37 | elapsed:    1.0s remaining:    0.3s\n",
      "[Parallel(n_jobs=12)]: Done  37 out of  37 | elapsed:    1.1s finished\n",
      "[Parallel(n_jobs=6)]: Using backend LokyBackend with 6 concurrent workers.\n",
      "[Parallel(n_jobs=6)]: Done  20 tasks      | elapsed:    1.1s\n",
      "[Parallel(n_jobs=6)]: Done 146 out of 146 | elapsed:    1.2s finished\n"
     ]
    }
   ],
   "source": [
    "acc_curves = []\n",
    "\n",
    "for fold in range(SPLITS):\n",
    "    train_index, test_index = index_split[fold]\n",
    "\n",
    "    X_train = X[train_index]\n",
    "    X_test = X[test_index]\n",
    "    \n",
    "    X_trainflat = np.concatenate(X_train)\n",
    "    \n",
    "    breaks = quantizer.learn_breakpoints(X_trainflat)\n",
    "    \n",
    "    X_train_strings = []\n",
    "    \n",
    "    for i in X_train:\n",
    "        stacked = i\n",
    "        string = quantizer.perform_quantization(stacked,breaks)\n",
    "        string = \"\".join([*(string)])\n",
    "        X_train_strings.append(string)\n",
    "    \n",
    "    X_train_strings = np.array(X_train_strings)\n",
    "    \n",
    "    X_test_strings = []\n",
    "    \n",
    "    for i in X_test:\n",
    "        stacked = i\n",
    "        string = quantizer.perform_quantization(stacked,breaks)\n",
    "        string = \"\".join([*(string)])\n",
    "        X_test_strings.append(string)\n",
    "    \n",
    "    X_test_strings = np.array(X_test_strings)\n",
    "    \n",
    "    Y_train = Y[train_index]\n",
    "    Y_test = Y[test_index]\n",
    "    \n",
    "    CX_test = np.vectorize(compresso)(X_test_strings)\n",
    "    CX_train = np.vectorize(compresso)(X_train_strings)\n",
    "\n",
    "    weights = Parallel(n_jobs=12, prefer=\"processes\", verbose = 3)(\n",
    "        delayed(predict_gzip)(i, 0, X_train_strings, X_test_strings, CX_train, CX_test, Y_train) for i in range(len(X_test)))\n",
    "    \n",
    "    weights = np.vstack(weights)\n",
    "    \n",
    "    accs = Parallel(n_jobs=6, prefer=\"processes\", verbose = 3)(\n",
    "        delayed(w_distances_to_classes)(k, weights, Y_test) for k in range(1, len(X_train)-1))\n",
    "    \n",
    "    acc_curves.append(accs)"
   ]
  },
  {
   "cell_type": "code",
   "execution_count": null,
   "id": "c6cded39",
   "metadata": {},
   "outputs": [],
   "source": []
  },
  {
   "cell_type": "code",
   "execution_count": 694,
   "id": "bd92f03d",
   "metadata": {},
   "outputs": [
    {
     "name": "stdout",
     "output_type": "stream",
     "text": [
      "83\n"
     ]
    }
   ],
   "source": [
    "minser = min(len(i) for i in acc_curves)\n",
    "fins = [np.array(i[:minser]) for i in acc_curves]\n",
    "print(np.argmax(sum(fins)[::2])*2 + 1)"
   ]
  },
  {
   "cell_type": "code",
   "execution_count": 695,
   "id": "de7a3a25",
   "metadata": {},
   "outputs": [],
   "source": [
    "uniform_k_table = {}\n",
    "k_list = [1,5,10,15,20,25,50,93,np.argmax(sum(fins)[::2])*2 + 1]\n",
    "\n",
    "for k in k_list:\n",
    "    acc_list = [i[k-1] for i in acc_curves]\n",
    "    acc_list.append(np.average(acc_list))\n",
    "    uniform_k_table[\"k=\"+str(k)] = acc_list\n",
    "    \n",
    "acc_list = [np.max(i[::2]) for i in acc_curves]\n",
    "acc_list.append(np.average(acc_list))\n",
    "uniform_k_table[\"best k\"] = acc_list"
   ]
  },
  {
   "cell_type": "code",
   "execution_count": 696,
   "id": "5da41f3c",
   "metadata": {},
   "outputs": [],
   "source": [
    "table_uniform = pd.DataFrame(uniform_k_table).T\n",
    "table_uniform.columns = [\"Split \" + str(i+1) for i in range(SPLITS)] + [\"Avg.\"]"
   ]
  },
  {
   "cell_type": "code",
   "execution_count": 697,
   "id": "2b04b0fa",
   "metadata": {},
   "outputs": [
    {
     "data": {
      "text/html": [
       "<div>\n",
       "<style scoped>\n",
       "    .dataframe tbody tr th:only-of-type {\n",
       "        vertical-align: middle;\n",
       "    }\n",
       "\n",
       "    .dataframe tbody tr th {\n",
       "        vertical-align: top;\n",
       "    }\n",
       "\n",
       "    .dataframe thead th {\n",
       "        text-align: right;\n",
       "    }\n",
       "</style>\n",
       "<table border=\"1\" class=\"dataframe\">\n",
       "  <thead>\n",
       "    <tr style=\"text-align: right;\">\n",
       "      <th></th>\n",
       "      <th>Split 1</th>\n",
       "      <th>Split 2</th>\n",
       "      <th>Split 3</th>\n",
       "      <th>Split 4</th>\n",
       "      <th>Split 5</th>\n",
       "      <th>Avg.</th>\n",
       "    </tr>\n",
       "  </thead>\n",
       "  <tbody>\n",
       "    <tr>\n",
       "      <th>k=1</th>\n",
       "      <td>0.945588</td>\n",
       "      <td>0.864865</td>\n",
       "      <td>0.918919</td>\n",
       "      <td>0.914943</td>\n",
       "      <td>0.917960</td>\n",
       "      <td>0.912455</td>\n",
       "    </tr>\n",
       "    <tr>\n",
       "      <th>k=5</th>\n",
       "      <td>0.945588</td>\n",
       "      <td>0.918681</td>\n",
       "      <td>0.918919</td>\n",
       "      <td>0.970843</td>\n",
       "      <td>0.972243</td>\n",
       "      <td>0.945255</td>\n",
       "    </tr>\n",
       "    <tr>\n",
       "      <th>k=10</th>\n",
       "      <td>0.945588</td>\n",
       "      <td>0.918681</td>\n",
       "      <td>0.891813</td>\n",
       "      <td>0.940705</td>\n",
       "      <td>0.972243</td>\n",
       "      <td>0.933806</td>\n",
       "    </tr>\n",
       "    <tr>\n",
       "      <th>k=15</th>\n",
       "      <td>0.917960</td>\n",
       "      <td>0.864469</td>\n",
       "      <td>0.891813</td>\n",
       "      <td>0.970843</td>\n",
       "      <td>0.972243</td>\n",
       "      <td>0.923466</td>\n",
       "    </tr>\n",
       "    <tr>\n",
       "      <th>k=20</th>\n",
       "      <td>0.889881</td>\n",
       "      <td>0.891176</td>\n",
       "      <td>0.918919</td>\n",
       "      <td>0.970843</td>\n",
       "      <td>0.944940</td>\n",
       "      <td>0.923152</td>\n",
       "    </tr>\n",
       "    <tr>\n",
       "      <th>k=25</th>\n",
       "      <td>0.945588</td>\n",
       "      <td>0.891176</td>\n",
       "      <td>0.891813</td>\n",
       "      <td>0.940705</td>\n",
       "      <td>0.944940</td>\n",
       "      <td>0.922845</td>\n",
       "    </tr>\n",
       "    <tr>\n",
       "      <th>k=50</th>\n",
       "      <td>0.917960</td>\n",
       "      <td>0.918681</td>\n",
       "      <td>0.891813</td>\n",
       "      <td>0.940705</td>\n",
       "      <td>0.972243</td>\n",
       "      <td>0.928280</td>\n",
       "    </tr>\n",
       "    <tr>\n",
       "      <th>k=93</th>\n",
       "      <td>0.945588</td>\n",
       "      <td>0.945588</td>\n",
       "      <td>0.918919</td>\n",
       "      <td>0.970843</td>\n",
       "      <td>0.972243</td>\n",
       "      <td>0.950636</td>\n",
       "    </tr>\n",
       "    <tr>\n",
       "      <th>k=83</th>\n",
       "      <td>0.945588</td>\n",
       "      <td>0.945588</td>\n",
       "      <td>0.945906</td>\n",
       "      <td>0.970843</td>\n",
       "      <td>0.972243</td>\n",
       "      <td>0.956034</td>\n",
       "    </tr>\n",
       "    <tr>\n",
       "      <th>best k</th>\n",
       "      <td>0.945588</td>\n",
       "      <td>0.945588</td>\n",
       "      <td>0.945906</td>\n",
       "      <td>0.970843</td>\n",
       "      <td>0.972243</td>\n",
       "      <td>0.956034</td>\n",
       "    </tr>\n",
       "  </tbody>\n",
       "</table>\n",
       "</div>"
      ],
      "text/plain": [
       "         Split 1   Split 2   Split 3   Split 4   Split 5      Avg.\n",
       "k=1     0.945588  0.864865  0.918919  0.914943  0.917960  0.912455\n",
       "k=5     0.945588  0.918681  0.918919  0.970843  0.972243  0.945255\n",
       "k=10    0.945588  0.918681  0.891813  0.940705  0.972243  0.933806\n",
       "k=15    0.917960  0.864469  0.891813  0.970843  0.972243  0.923466\n",
       "k=20    0.889881  0.891176  0.918919  0.970843  0.944940  0.923152\n",
       "k=25    0.945588  0.891176  0.891813  0.940705  0.944940  0.922845\n",
       "k=50    0.917960  0.918681  0.891813  0.940705  0.972243  0.928280\n",
       "k=93    0.945588  0.945588  0.918919  0.970843  0.972243  0.950636\n",
       "k=83    0.945588  0.945588  0.945906  0.970843  0.972243  0.956034\n",
       "best k  0.945588  0.945588  0.945906  0.970843  0.972243  0.956034"
      ]
     },
     "execution_count": 697,
     "metadata": {},
     "output_type": "execute_result"
    }
   ],
   "source": [
    "table_uniform"
   ]
  },
  {
   "cell_type": "code",
   "execution_count": null,
   "id": "e2158306",
   "metadata": {},
   "outputs": [],
   "source": []
  },
  {
   "cell_type": "code",
   "execution_count": null,
   "id": "f28d7b7d",
   "metadata": {},
   "outputs": [],
   "source": []
  },
  {
   "cell_type": "code",
   "execution_count": null,
   "id": "4161b3f4",
   "metadata": {},
   "outputs": [],
   "source": []
  },
  {
   "cell_type": "code",
   "execution_count": null,
   "id": "e8cd2bba",
   "metadata": {},
   "outputs": [],
   "source": []
  },
  {
   "cell_type": "code",
   "execution_count": null,
   "id": "a329dd6f",
   "metadata": {},
   "outputs": [],
   "source": []
  },
  {
   "cell_type": "code",
   "execution_count": null,
   "id": "520bfec4",
   "metadata": {},
   "outputs": [],
   "source": []
  },
  {
   "cell_type": "code",
   "execution_count": null,
   "id": "c7a14878",
   "metadata": {},
   "outputs": [],
   "source": []
  }
 ],
 "metadata": {
  "kernelspec": {
   "display_name": "Python (other-env)",
   "language": "python",
   "name": "other-env"
  },
  "language_info": {
   "codemirror_mode": {
    "name": "ipython",
    "version": 3
   },
   "file_extension": ".py",
   "mimetype": "text/x-python",
   "name": "python",
   "nbconvert_exporter": "python",
   "pygments_lexer": "ipython3",
   "version": "3.11.3"
  }
 },
 "nbformat": 4,
 "nbformat_minor": 5
}
