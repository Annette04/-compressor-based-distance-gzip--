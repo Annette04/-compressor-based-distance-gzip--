{
 "cells": [
  {
   "cell_type": "code",
   "execution_count": 1,
   "id": "37168472-82db-4081-ba98-40244d93e203",
   "metadata": {},
   "outputs": [],
   "source": [
    "import pandas as pb\n",
    "import numpy as np\n",
    "import matplotlib.pyplot as plt\n",
    "import pandas as pd\n",
    "import os\n",
    "import os.path\n",
    "from sklearn.metrics import classification_report, accuracy_score\n",
    "from sklearn.metrics import roc_auc_score, precision_score, recall_score, f1_score\n",
    "from sklearn.model_selection import train_test_split, KFold\n",
    "import gzip"
   ]
  },
  {
   "cell_type": "code",
   "execution_count": 2,
   "id": "ade3d00c-83f2-4661-8d73-8d31581dfc89",
   "metadata": {},
   "outputs": [],
   "source": [
    "X_L = []\n",
    "X_R = []\n",
    "Y = []\n",
    "\n",
    "for root, dirs, files in os.walk('Recording Data'):\n",
    "    for file in files:\n",
    "        if file.endswith(\".txt\") and file != 'Subject codes.txt':\n",
    "            file_path = os.path.join(root, file)\n",
    "            match root[-1]:\n",
    "                case '1' | '2':\n",
    "                    has_dyslexia = 1\n",
    "                case _:\n",
    "                    has_dyslexia = 0\n",
    "            data = pd.read_csv(file_path, sep='\\t', index_col=None, decimal=\",\")\n",
    "            data['r_dist'] = (data['RX'].diff() ** 2 + data['RY'].diff() ** 2) ** 0.5\n",
    "            data['l_dist'] = (data['LX'].diff() ** 2 + data['LY'].diff() ** 2) ** 0.5\n",
    "            X_L.append(data['l_dist'][1:])\n",
    "            X_R.append(data['r_dist'][1:])\n",
    "            Y.append(has_dyslexia)"
   ]
  },
  {
   "cell_type": "code",
   "execution_count": 3,
   "id": "dbe5d235-6712-41a2-83b7-8bf899cfa3e6",
   "metadata": {},
   "outputs": [],
   "source": [
    "X_L_train, X_L_test, Y_L_train, Y_L_test = train_test_split(X_L, Y, test_size=0.3, random_state=42)"
   ]
  },
  {
   "cell_type": "code",
   "execution_count": 4,
   "id": "8b9d0b87-8d08-4739-8669-fb470bfbc740",
   "metadata": {},
   "outputs": [],
   "source": [
    "X_R_train, X_R_test, Y_R_train, Y_R_test = train_test_split(X_R, Y, test_size=0.3, random_state=42)"
   ]
  },
  {
   "cell_type": "code",
   "execution_count": 5,
   "id": "11a4cce9-6f18-48bc-b3b0-a7d2fd8cda18",
   "metadata": {},
   "outputs": [],
   "source": [
    "k_m = [1, 5, 10, 15, 20, 25]"
   ]
  },
  {
   "cell_type": "code",
   "execution_count": 17,
   "id": "4fd53e97-5d6a-4039-9c5f-d8750cd89d5e",
   "metadata": {},
   "outputs": [],
   "source": [
    "kf = KFold(n_splits=5, random_state=42, shuffle=True)\n",
    "\n",
    "f_scores = []\n",
    "for k in k_m:\n",
    "    for train_index, test_index in kf.split(X_L):\n",
    "        X_L_train, X_L_test = [X_L[i] for i in train_index], [X_L[i] for i in test_index]\n",
    "        X_R_train, X_R_test = [X_R[i] for i in train_index], [X_R[i] for i in test_index]\n",
    "        Y_train, Y_test = [Y[i] for i in train_index], [Y[i] for i in test_index]\n",
    "\n",
    "        predicts_L = []\n",
    "        predicts_R = []\n",
    "        \n",
    "        for x1 in X_L_test:\n",
    "            x1 = np.array(x1)\n",
    "            Cx1 = len(gzip.compress(x1))\n",
    "            distance_from_x1 = []\n",
    "            for x2 in X_L_train:\n",
    "                x2 = np.array(x2)\n",
    "                Cx2 = len(gzip.compress(x2))\n",
    "                x1x2 = np.concatenate((x1, x2))\n",
    "                Cx1x2 = len(gzip.compress(np.array(x1x2)))\n",
    "                ncd = (Cx1x2 - min(Cx1 , Cx2)) / max (Cx1 , Cx2 )\n",
    "                distance_from_x1.append(ncd)\n",
    "                        \n",
    "            sorted_idx = np.argsort(np.array(distance_from_x1))\n",
    "            top_k_class = np.array(Y_train)[sorted_idx[:k]].tolist()\n",
    "            predict_class = max(set(top_k_class), key = top_k_class.count)\n",
    "            predicts_L.append(predict_class)\n",
    "\n",
    "        predicts_R = []\n",
    "        for x1 in X_R_test:\n",
    "            x1 = np.array(x1)\n",
    "            Cx1 = len(gzip.compress(x1))\n",
    "            distance_from_x1 = []\n",
    "            for x2 in X_R_train:\n",
    "                x2 = np.array(x2)\n",
    "                Cx2 = len(gzip.compress(x2))\n",
    "                x1x2 = np.concatenate((x1, x2))\n",
    "                Cx1x2 = len(gzip.compress(np.array(x1x2)))\n",
    "                ncd = (Cx1x2 - min(Cx1 , Cx2)) / max (Cx1 , Cx2 )\n",
    "                distance_from_x1.append(ncd)\n",
    "                        \n",
    "            sorted_idx = np.argsort(np.array(distance_from_x1))\n",
    "            top_k_class = np.array(Y_train)[sorted_idx[:k]].tolist()\n",
    "            predict_class = max(set(top_k_class), key = top_k_class.count)\n",
    "            predicts_R.append(predict_class)\n",
    "\n",
    "        predicts = [(x + y) // 2 for x,y in zip(predicts_L, predicts_R)]\n",
    "        \n",
    "        f1 = classification_report(Y_test, predicts, output_dict=True)['macro avg']['f1-score']\n",
    "        f_scores.append(f1)"
   ]
  },
  {
   "cell_type": "code",
   "execution_count": 18,
   "id": "b12cffac-cd8c-43bc-84be-8471923dfa49",
   "metadata": {},
   "outputs": [],
   "source": [
    "f_scores_split = np.array_split(f_scores, 6)"
   ]
  },
  {
   "cell_type": "code",
   "execution_count": 19,
   "id": "a36fafe5-c424-4c3a-a79d-2182ea48608a",
   "metadata": {},
   "outputs": [],
   "source": [
    "table = pd.DataFrame(f_scores_split, index=[1, 5, 10, 15, 20, 25], columns=['1_split', '2_split', '3_split', '4_split', '5_split'])"
   ]
  },
  {
   "cell_type": "code",
   "execution_count": 20,
   "id": "201615d8-40ab-48ff-a6ae-52a375c7d026",
   "metadata": {},
   "outputs": [],
   "source": [
    "table['avg_score'] = table.sum(axis=1) / 5"
   ]
  },
  {
   "cell_type": "code",
   "execution_count": 21,
   "id": "a1040160-82ec-4738-b012-7af6a3f97867",
   "metadata": {},
   "outputs": [
    {
     "data": {
      "text/html": [
       "<div>\n",
       "<style scoped>\n",
       "    .dataframe tbody tr th:only-of-type {\n",
       "        vertical-align: middle;\n",
       "    }\n",
       "\n",
       "    .dataframe tbody tr th {\n",
       "        vertical-align: top;\n",
       "    }\n",
       "\n",
       "    .dataframe thead th {\n",
       "        text-align: right;\n",
       "    }\n",
       "</style>\n",
       "<table border=\"1\" class=\"dataframe\">\n",
       "  <thead>\n",
       "    <tr style=\"text-align: right;\">\n",
       "      <th></th>\n",
       "      <th>1_split</th>\n",
       "      <th>2_split</th>\n",
       "      <th>3_split</th>\n",
       "      <th>4_split</th>\n",
       "      <th>5_split</th>\n",
       "      <th>avg_score</th>\n",
       "    </tr>\n",
       "  </thead>\n",
       "  <tbody>\n",
       "    <tr>\n",
       "      <th>1</th>\n",
       "      <td>0.810256</td>\n",
       "      <td>0.795902</td>\n",
       "      <td>0.701832</td>\n",
       "      <td>0.827640</td>\n",
       "      <td>0.782353</td>\n",
       "      <td>0.783597</td>\n",
       "    </tr>\n",
       "    <tr>\n",
       "      <th>5</th>\n",
       "      <td>0.864469</td>\n",
       "      <td>0.909388</td>\n",
       "      <td>0.805701</td>\n",
       "      <td>0.795902</td>\n",
       "      <td>0.679275</td>\n",
       "      <td>0.810947</td>\n",
       "    </tr>\n",
       "    <tr>\n",
       "      <th>10</th>\n",
       "      <td>0.945906</td>\n",
       "      <td>0.876667</td>\n",
       "      <td>0.834821</td>\n",
       "      <td>0.801533</td>\n",
       "      <td>0.805701</td>\n",
       "      <td>0.852926</td>\n",
       "    </tr>\n",
       "    <tr>\n",
       "      <th>15</th>\n",
       "      <td>0.891813</td>\n",
       "      <td>0.805944</td>\n",
       "      <td>0.805701</td>\n",
       "      <td>0.795902</td>\n",
       "      <td>0.744828</td>\n",
       "      <td>0.808838</td>\n",
       "    </tr>\n",
       "    <tr>\n",
       "      <th>20</th>\n",
       "      <td>0.864469</td>\n",
       "      <td>0.815000</td>\n",
       "      <td>0.834821</td>\n",
       "      <td>0.827640</td>\n",
       "      <td>0.834821</td>\n",
       "      <td>0.835350</td>\n",
       "    </tr>\n",
       "    <tr>\n",
       "      <th>25</th>\n",
       "      <td>0.864469</td>\n",
       "      <td>0.815000</td>\n",
       "      <td>0.834821</td>\n",
       "      <td>0.795902</td>\n",
       "      <td>0.834821</td>\n",
       "      <td>0.829003</td>\n",
       "    </tr>\n",
       "  </tbody>\n",
       "</table>\n",
       "</div>"
      ],
      "text/plain": [
       "     1_split   2_split   3_split   4_split   5_split  avg_score\n",
       "1   0.810256  0.795902  0.701832  0.827640  0.782353   0.783597\n",
       "5   0.864469  0.909388  0.805701  0.795902  0.679275   0.810947\n",
       "10  0.945906  0.876667  0.834821  0.801533  0.805701   0.852926\n",
       "15  0.891813  0.805944  0.805701  0.795902  0.744828   0.808838\n",
       "20  0.864469  0.815000  0.834821  0.827640  0.834821   0.835350\n",
       "25  0.864469  0.815000  0.834821  0.795902  0.834821   0.829003"
      ]
     },
     "execution_count": 21,
     "metadata": {},
     "output_type": "execute_result"
    }
   ],
   "source": [
    "table"
   ]
  }
 ],
 "metadata": {
  "kernelspec": {
   "display_name": "Python 3 (ipykernel)",
   "language": "python",
   "name": "python3"
  },
  "language_info": {
   "codemirror_mode": {
    "name": "ipython",
    "version": 3
   },
   "file_extension": ".py",
   "mimetype": "text/x-python",
   "name": "python",
   "nbconvert_exporter": "python",
   "pygments_lexer": "ipython3",
   "version": "3.11.3"
  }
 },
 "nbformat": 4,
 "nbformat_minor": 5
}
