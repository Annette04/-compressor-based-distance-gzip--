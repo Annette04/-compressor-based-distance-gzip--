{
 "cells": [
  {
   "cell_type": "code",
   "execution_count": 168,
   "id": "7eb9d59b-e236-4bee-9ccc-1b4049c5c9a4",
   "metadata": {},
   "outputs": [],
   "source": [
    "import pandas as pb\n",
    "import numpy as np\n",
    "import matplotlib.pyplot as plt\n",
    "import pandas as pd\n",
    "import os\n",
    "import os.path\n",
    "from sklearn.metrics import classification_report, accuracy_score\n",
    "from sklearn.metrics import roc_auc_score, precision_score, recall_score, f1_score\n",
    "from sklearn.model_selection import train_test_split, KFold\n",
    "import gzip"
   ]
  },
  {
   "cell_type": "code",
   "execution_count": 157,
   "id": "c697be42-5db9-4f1b-9f4b-b1406aebc800",
   "metadata": {},
   "outputs": [],
   "source": [
    "X = []\n",
    "Y = []\n",
    "\n",
    "for root, dirs, files in os.walk('Recording Data'):\n",
    "    for file in files:\n",
    "        if file.endswith(\".txt\") and file != 'Subject codes.txt':\n",
    "            file_path = os.path.join(root, file)\n",
    "            match root[-1]:\n",
    "                case '1' | '2':\n",
    "                    has_dyslexia = 1\n",
    "                case _:\n",
    "                    has_dyslexia = 0\n",
    "            data = pd.read_csv(file_path, sep='\\t', index_col=None, decimal=\",\")\n",
    "            data['r_dist'] = (data['RX'].diff() ** 2 + data['RY'].diff() ** 2) ** 0.5\n",
    "            data['l_dist'] = (data['LX'].diff() ** 2 + data['LY'].diff() ** 2) ** 0.5\n",
    "            added_data = list(zip(data['r_dist'][1:], data['l_dist'][1:]))\n",
    "            X.append(added_data)\n",
    "            Y.append(has_dyslexia)"
   ]
  },
  {
   "cell_type": "code",
   "execution_count": 158,
   "id": "eb2ea635-1407-40a2-88c5-2f14c9b64dfa",
   "metadata": {},
   "outputs": [],
   "source": [
    "X_train, X_test, Y_train, Y_test = train_test_split(X, Y, test_size=0.3, random_state=42)"
   ]
  },
  {
   "cell_type": "code",
   "execution_count": 159,
   "id": "7b212174-eb3c-4f29-83cc-f457ede2cdd4",
   "metadata": {},
   "outputs": [],
   "source": [
    "k_m = [1, 5, 10, 15, 20, 25]"
   ]
  },
  {
   "cell_type": "code",
   "execution_count": 4,
   "id": "6fac10e5-cd81-41eb-a2fb-859fc52d7dab",
   "metadata": {},
   "outputs": [],
   "source": [
    "#Перевести все в массивы numpy и вместо сложения использовать np.concatenate"
   ]
  },
  {
   "cell_type": "code",
   "execution_count": 160,
   "id": "51c3bc26-de28-41ba-96af-57f375cf0b75",
   "metadata": {},
   "outputs": [],
   "source": [
    "kf = KFold(n_splits=5, random_state=42, shuffle=True)\n",
    "\n",
    "f_scores = []\n",
    "for k in k_m:\n",
    "    for train_index, test_index in kf.split(X):\n",
    "        X_train, X_test = [X[i] for i in train_index], [X[i] for i in test_index]\n",
    "        Y_train, Y_test = [Y[i] for i in train_index], [Y[i] for i in test_index]\n",
    "\n",
    "        predicts = []\n",
    "        for x1 in X_test:\n",
    "            x1 = np.array(x1)\n",
    "            Cx1 = len(gzip.compress(x1))\n",
    "            distance_from_x1 = []\n",
    "            for x2 in X_train:\n",
    "                x2 = np.array(x2)\n",
    "                Cx2 = len(gzip.compress(x2))\n",
    "                x1x2 = np.concatenate((x1, x2))\n",
    "                Cx1x2 = len(gzip.compress(np.array(x1x2)))\n",
    "                ncd = (Cx1x2 - min(Cx1 , Cx2)) / max (Cx1 , Cx2 )\n",
    "                distance_from_x1.append(ncd)\n",
    "                        \n",
    "            sorted_idx = np.argsort(np.array(distance_from_x1))\n",
    "            top_k_class = np.array(Y_train)[sorted_idx[:k]].tolist()\n",
    "            predict_class = max(set(top_k_class), key = top_k_class.count)\n",
    "            predicts.append(predict_class)\n",
    "        \n",
    "        f1 = classification_report(Y_test, predicts, output_dict=True)['macro avg']['f1-score']\n",
    "        f_scores.append(f1)"
   ]
  },
  {
   "cell_type": "code",
   "execution_count": 161,
   "id": "517078af-07af-4b37-ad42-43c4cd2eb789",
   "metadata": {},
   "outputs": [],
   "source": [
    "f_scores_split = np.array_split(f_scores, 6)"
   ]
  },
  {
   "cell_type": "code",
   "execution_count": 165,
   "id": "14e32b89-7f36-476b-951e-7dcdd267cdd3",
   "metadata": {},
   "outputs": [],
   "source": [
    "table = pd.DataFrame(f_scores_split, index=[1, 5, 10, 15, 20, 25], columns=['1_split', '2_split', '3_split', '4_split', '5_split'])"
   ]
  },
  {
   "cell_type": "code",
   "execution_count": 166,
   "id": "7b38a9b5-cbce-4c17-8a8b-d2303d441dae",
   "metadata": {},
   "outputs": [],
   "source": [
    "table['avg_score'] = table.sum(axis=1) / 5"
   ]
  },
  {
   "cell_type": "code",
   "execution_count": 167,
   "id": "2545b634-f66f-474c-ac6f-37791ee6fca1",
   "metadata": {},
   "outputs": [
    {
     "data": {
      "text/html": [
       "<div>\n",
       "<style scoped>\n",
       "    .dataframe tbody tr th:only-of-type {\n",
       "        vertical-align: middle;\n",
       "    }\n",
       "\n",
       "    .dataframe tbody tr th {\n",
       "        vertical-align: top;\n",
       "    }\n",
       "\n",
       "    .dataframe thead th {\n",
       "        text-align: right;\n",
       "    }\n",
       "</style>\n",
       "<table border=\"1\" class=\"dataframe\">\n",
       "  <thead>\n",
       "    <tr style=\"text-align: right;\">\n",
       "      <th></th>\n",
       "      <th>1_split</th>\n",
       "      <th>2_split</th>\n",
       "      <th>3_split</th>\n",
       "      <th>4_split</th>\n",
       "      <th>5_split</th>\n",
       "      <th>avg_score</th>\n",
       "    </tr>\n",
       "  </thead>\n",
       "  <tbody>\n",
       "    <tr>\n",
       "      <th>1</th>\n",
       "      <td>0.863267</td>\n",
       "      <td>0.854216</td>\n",
       "      <td>0.756757</td>\n",
       "      <td>0.779762</td>\n",
       "      <td>0.864469</td>\n",
       "      <td>0.823694</td>\n",
       "    </tr>\n",
       "    <tr>\n",
       "      <th>5</th>\n",
       "      <td>0.864469</td>\n",
       "      <td>0.912530</td>\n",
       "      <td>0.891813</td>\n",
       "      <td>0.891176</td>\n",
       "      <td>0.891176</td>\n",
       "      <td>0.890233</td>\n",
       "    </tr>\n",
       "    <tr>\n",
       "      <th>10</th>\n",
       "      <td>0.889881</td>\n",
       "      <td>0.805701</td>\n",
       "      <td>0.808574</td>\n",
       "      <td>0.864865</td>\n",
       "      <td>0.918681</td>\n",
       "      <td>0.857540</td>\n",
       "    </tr>\n",
       "    <tr>\n",
       "      <th>15</th>\n",
       "      <td>0.945588</td>\n",
       "      <td>0.858238</td>\n",
       "      <td>0.837719</td>\n",
       "      <td>0.918681</td>\n",
       "      <td>0.945906</td>\n",
       "      <td>0.901227</td>\n",
       "    </tr>\n",
       "    <tr>\n",
       "      <th>20</th>\n",
       "      <td>0.917960</td>\n",
       "      <td>0.805701</td>\n",
       "      <td>0.836765</td>\n",
       "      <td>0.891813</td>\n",
       "      <td>0.863267</td>\n",
       "      <td>0.863101</td>\n",
       "    </tr>\n",
       "    <tr>\n",
       "      <th>25</th>\n",
       "      <td>0.889881</td>\n",
       "      <td>0.912530</td>\n",
       "      <td>0.834821</td>\n",
       "      <td>0.864865</td>\n",
       "      <td>0.891176</td>\n",
       "      <td>0.878655</td>\n",
       "    </tr>\n",
       "  </tbody>\n",
       "</table>\n",
       "</div>"
      ],
      "text/plain": [
       "     1_split   2_split   3_split   4_split   5_split  avg_score\n",
       "1   0.863267  0.854216  0.756757  0.779762  0.864469   0.823694\n",
       "5   0.864469  0.912530  0.891813  0.891176  0.891176   0.890233\n",
       "10  0.889881  0.805701  0.808574  0.864865  0.918681   0.857540\n",
       "15  0.945588  0.858238  0.837719  0.918681  0.945906   0.901227\n",
       "20  0.917960  0.805701  0.836765  0.891813  0.863267   0.863101\n",
       "25  0.889881  0.912530  0.834821  0.864865  0.891176   0.878655"
      ]
     },
     "execution_count": 167,
     "metadata": {},
     "output_type": "execute_result"
    }
   ],
   "source": [
    "table"
   ]
  }
 ],
 "metadata": {
  "kernelspec": {
   "display_name": "Python 3 (ipykernel)",
   "language": "python",
   "name": "python3"
  },
  "language_info": {
   "codemirror_mode": {
    "name": "ipython",
    "version": 3
   },
   "file_extension": ".py",
   "mimetype": "text/x-python",
   "name": "python",
   "nbconvert_exporter": "python",
   "pygments_lexer": "ipython3",
   "version": "3.11.3"
  }
 },
 "nbformat": 4,
 "nbformat_minor": 5
}
