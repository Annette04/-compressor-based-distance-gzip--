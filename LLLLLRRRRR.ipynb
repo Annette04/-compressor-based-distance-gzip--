{
 "cells": [
  {
   "cell_type": "code",
   "execution_count": 1,
   "id": "c42cf9bb-3e86-4097-9c78-ec9cb374ff55",
   "metadata": {},
   "outputs": [],
   "source": [
    "import pandas as pb\n",
    "import numpy as np\n",
    "import matplotlib.pyplot as plt\n",
    "import pandas as pd\n",
    "import os\n",
    "import os.path\n",
    "from sklearn.metrics import classification_report, accuracy_score\n",
    "from sklearn.metrics import roc_auc_score, precision_score, recall_score, f1_score\n",
    "from sklearn.model_selection import train_test_split, KFold\n",
    "import gzip"
   ]
  },
  {
   "cell_type": "code",
   "execution_count": 4,
   "id": "1037a1c4-6926-44c2-b145-2bb64e89af9b",
   "metadata": {},
   "outputs": [],
   "source": [
    "X_L = []\n",
    "X_R = []\n",
    "Y = []\n",
    "\n",
    "for root, dirs, files in os.walk('Recording Data'):\n",
    "    for file in files:\n",
    "        if file.endswith(\".txt\") and file != 'Subject codes.txt':\n",
    "            file_path = os.path.join(root, file)\n",
    "            match root[-1]:\n",
    "                case '1' | '2':\n",
    "                    has_dyslexia = 1\n",
    "                case _:\n",
    "                    has_dyslexia = 0\n",
    "            data = pd.read_csv(file_path, sep='\\t', index_col=None, decimal=\",\")\n",
    "            data['r_dist'] = (data['RX'].diff() ** 2 + data['RY'].diff() ** 2) ** 0.5\n",
    "            data['l_dist'] = (data['LX'].diff() ** 2 + data['LY'].diff() ** 2) ** 0.5\n",
    "            X_L.append(data['l_dist'][1:])\n",
    "            X_R.append(data['r_dist'][1:])\n",
    "            Y.append(has_dyslexia)"
   ]
  },
  {
   "cell_type": "code",
   "execution_count": 7,
   "id": "ada5c8a9-d92a-45ec-bdd9-1922d69b0c52",
   "metadata": {},
   "outputs": [],
   "source": [
    "X = X_L + X_R\n",
    "Y = Y * 2"
   ]
  },
  {
   "cell_type": "code",
   "execution_count": 8,
   "id": "c57bc1d3-f3d2-4908-ac27-9b4d24ec3440",
   "metadata": {},
   "outputs": [],
   "source": [
    "X_train, X_test, Y_train, Y_test = train_test_split(X, Y, test_size=0.3, random_state=42)"
   ]
  },
  {
   "cell_type": "code",
   "execution_count": 9,
   "id": "fc67ec55-d925-4521-aea8-83d72cd122a4",
   "metadata": {},
   "outputs": [],
   "source": [
    "k_m = [1, 5, 10, 15, 20, 25]"
   ]
  },
  {
   "cell_type": "code",
   "execution_count": 10,
   "id": "4150fc8a-3276-4456-abeb-3026c3ee85e8",
   "metadata": {},
   "outputs": [],
   "source": [
    "kf = KFold(n_splits=5, random_state=42, shuffle=True)\n",
    "\n",
    "f_scores = []\n",
    "for k in k_m:\n",
    "    for train_index, test_index in kf.split(X):\n",
    "        X_train, X_test = [X[i] for i in train_index], [X[i] for i in test_index]\n",
    "        Y_train, Y_test = [Y[i] for i in train_index], [Y[i] for i in test_index]\n",
    "\n",
    "        predicts = []\n",
    "        for x1 in X_test:\n",
    "            x1 = np.array(x1)\n",
    "            Cx1 = len(gzip.compress(x1))\n",
    "            distance_from_x1 = []\n",
    "            for x2 in X_train:\n",
    "                x2 = np.array(x2)\n",
    "                Cx2 = len(gzip.compress(x2))\n",
    "                x1x2 = np.concatenate((x1, x2))\n",
    "                Cx1x2 = len(gzip.compress(np.array(x1x2)))\n",
    "                ncd = (Cx1x2 - min(Cx1 , Cx2)) / max (Cx1 , Cx2 )\n",
    "                distance_from_x1.append(ncd)\n",
    "                        \n",
    "            sorted_idx = np.argsort(np.array(distance_from_x1))\n",
    "            top_k_class = np.array(Y_train)[sorted_idx[:k]].tolist()\n",
    "            predict_class = max(set(top_k_class), key = top_k_class.count)\n",
    "            predicts.append(predict_class)\n",
    "        \n",
    "        f1 = classification_report(Y_test, predicts, output_dict=True)['macro avg']['f1-score']\n",
    "        f_scores.append(f1)"
   ]
  },
  {
   "cell_type": "code",
   "execution_count": 11,
   "id": "fc794dd5-5e97-4c9d-b90e-4ceb5f274c0b",
   "metadata": {},
   "outputs": [],
   "source": [
    "f_scores_split = np.array_split(f_scores, 6)"
   ]
  },
  {
   "cell_type": "code",
   "execution_count": 12,
   "id": "4da9aaef-c31a-454f-8a53-3c35351e30b8",
   "metadata": {},
   "outputs": [],
   "source": [
    "table = pd.DataFrame(f_scores_split, index=[1, 5, 10, 15, 20, 25], columns=['1_split', '2_split', '3_split', '4_split', '5_split'])"
   ]
  },
  {
   "cell_type": "code",
   "execution_count": 13,
   "id": "ef71226e-86ac-4995-b829-ba6eabd3d2a9",
   "metadata": {},
   "outputs": [],
   "source": [
    "table['avg_score'] = table.sum(axis=1) / 5"
   ]
  },
  {
   "cell_type": "code",
   "execution_count": 14,
   "id": "beca4360-838e-4879-8746-5899365fad00",
   "metadata": {},
   "outputs": [
    {
     "data": {
      "text/html": [
       "<div>\n",
       "<style scoped>\n",
       "    .dataframe tbody tr th:only-of-type {\n",
       "        vertical-align: middle;\n",
       "    }\n",
       "\n",
       "    .dataframe tbody tr th {\n",
       "        vertical-align: top;\n",
       "    }\n",
       "\n",
       "    .dataframe thead th {\n",
       "        text-align: right;\n",
       "    }\n",
       "</style>\n",
       "<table border=\"1\" class=\"dataframe\">\n",
       "  <thead>\n",
       "    <tr style=\"text-align: right;\">\n",
       "      <th></th>\n",
       "      <th>1_split</th>\n",
       "      <th>2_split</th>\n",
       "      <th>3_split</th>\n",
       "      <th>4_split</th>\n",
       "      <th>5_split</th>\n",
       "      <th>avg_score</th>\n",
       "    </tr>\n",
       "  </thead>\n",
       "  <tbody>\n",
       "    <tr>\n",
       "      <th>1</th>\n",
       "      <td>0.944486</td>\n",
       "      <td>0.835920</td>\n",
       "      <td>0.829885</td>\n",
       "      <td>0.986364</td>\n",
       "      <td>0.891575</td>\n",
       "      <td>0.897646</td>\n",
       "    </tr>\n",
       "    <tr>\n",
       "      <th>5</th>\n",
       "      <td>0.750149</td>\n",
       "      <td>0.831818</td>\n",
       "      <td>0.762821</td>\n",
       "      <td>0.858238</td>\n",
       "      <td>0.747727</td>\n",
       "      <td>0.790150</td>\n",
       "    </tr>\n",
       "    <tr>\n",
       "      <th>10</th>\n",
       "      <td>0.814536</td>\n",
       "      <td>0.875630</td>\n",
       "      <td>0.795902</td>\n",
       "      <td>0.874505</td>\n",
       "      <td>0.762955</td>\n",
       "      <td>0.824706</td>\n",
       "    </tr>\n",
       "    <tr>\n",
       "      <th>15</th>\n",
       "      <td>0.808937</td>\n",
       "      <td>0.801533</td>\n",
       "      <td>0.762821</td>\n",
       "      <td>0.873167</td>\n",
       "      <td>0.762955</td>\n",
       "      <td>0.801882</td>\n",
       "    </tr>\n",
       "    <tr>\n",
       "      <th>20</th>\n",
       "      <td>0.808937</td>\n",
       "      <td>0.831818</td>\n",
       "      <td>0.779543</td>\n",
       "      <td>0.859848</td>\n",
       "      <td>0.762955</td>\n",
       "      <td>0.808620</td>\n",
       "    </tr>\n",
       "    <tr>\n",
       "      <th>25</th>\n",
       "      <td>0.775622</td>\n",
       "      <td>0.831818</td>\n",
       "      <td>0.745704</td>\n",
       "      <td>0.859848</td>\n",
       "      <td>0.747727</td>\n",
       "      <td>0.792144</td>\n",
       "    </tr>\n",
       "  </tbody>\n",
       "</table>\n",
       "</div>"
      ],
      "text/plain": [
       "     1_split   2_split   3_split   4_split   5_split  avg_score\n",
       "1   0.944486  0.835920  0.829885  0.986364  0.891575   0.897646\n",
       "5   0.750149  0.831818  0.762821  0.858238  0.747727   0.790150\n",
       "10  0.814536  0.875630  0.795902  0.874505  0.762955   0.824706\n",
       "15  0.808937  0.801533  0.762821  0.873167  0.762955   0.801882\n",
       "20  0.808937  0.831818  0.779543  0.859848  0.762955   0.808620\n",
       "25  0.775622  0.831818  0.745704  0.859848  0.747727   0.792144"
      ]
     },
     "execution_count": 14,
     "metadata": {},
     "output_type": "execute_result"
    }
   ],
   "source": [
    "table"
   ]
  }
 ],
 "metadata": {
  "kernelspec": {
   "display_name": "Python 3 (ipykernel)",
   "language": "python",
   "name": "python3"
  },
  "language_info": {
   "codemirror_mode": {
    "name": "ipython",
    "version": 3
   },
   "file_extension": ".py",
   "mimetype": "text/x-python",
   "name": "python",
   "nbconvert_exporter": "python",
   "pygments_lexer": "ipython3",
   "version": "3.11.3"
  }
 },
 "nbformat": 4,
 "nbformat_minor": 5
}
